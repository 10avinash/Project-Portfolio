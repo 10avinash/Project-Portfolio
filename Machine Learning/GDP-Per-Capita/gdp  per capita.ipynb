{
  "nbformat": 4,
  "nbformat_minor": 0,
  "metadata": {
    "colab": {
      "name": "proj2",
      "provenance": [],
      "collapsed_sections": []
    },
    "kernelspec": {
      "name": "python2",
      "display_name": "Python 2"
    }
  },
  "cells": [
    {
      "cell_type": "code",
      "metadata": {
        "id": "Z7TN-kzqEx3t",
        "colab_type": "code",
        "outputId": "2a846eca-3ecf-41bc-8347-2f54a002739c",
        "colab": {
          "resources": {
            "http://localhost:8080/nbextensions/google.colab/files.js": {
              "data": "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",
              "ok": true,
              "headers": [
                [
                  "content-type",
                  "application/javascript"
                ]
              ],
              "status": 200,
              "status_text": ""
            }
          },
          "base_uri": "https://localhost:8080/",
          "height": 129
        }
      },
      "source": [
        "import keras\n",
        "print(keras.__version__)\n",
        "import pandas as pd\n",
        "from pandas import read_csv\n",
        "from matplotlib import pyplot\n",
        "from keras.models import Sequential\n",
        "from keras.layers.core import Dense, Activation, Dropout\n",
        "from keras.layers.recurrent import LSTM\n",
        "from sklearn.preprocessing import MinMaxScaler\n",
        "from google.colab import files\n",
        "files.upload()"
      ],
      "execution_count": 0,
      "outputs": [
        {
          "output_type": "stream",
          "text": [
            "2.2.4\n"
          ],
          "name": "stdout"
        },
        {
          "output_type": "display_data",
          "data": {
            "text/plain": [
              "<IPython.core.display.HTML object>"
            ],
            "text/html": [
              "\n",
              "     <input type=\"file\" id=\"files-c6125afe-93d3-4adc-a300-b9fbb769a857\" name=\"files[]\" multiple disabled />\n",
              "     <output id=\"result-c6125afe-93d3-4adc-a300-b9fbb769a857\">\n",
              "      Upload widget is only available when the cell has been executed in the\n",
              "      current browser session. Please rerun this cell to enable.\n",
              "      </output>\n",
              "      <script src=\"/nbextensions/google.colab/files.js\"></script> "
            ]
          },
          "metadata": {
            "tags": []
          }
        },
        {
          "output_type": "stream",
          "text": [
            "Saving dataset.csv to dataset.csv\n"
          ],
          "name": "stdout"
        },
        {
          "output_type": "execute_result",
          "data": {
            "text/plain": [
              "{u'dataset.csv': 'Nitrous,Carbon,Methane,Usa\\n274.55,280.83,757.76,1295.92\\n274.53,280.92,758.58,1319.59\\n274.52,280.99,759.51,1341.21\\n274.51,281.07,760.51,1318.56\\n274.49,281.16,761.54,1317.53\\n274.47,281.23,762.67,1345.33\\n274.45,281.32,763.80,1370.03\\n274.43,281.41,765.02,1383.41\\n274.41,281.50,766.32,1285.63\\n274.38,281.57,767.66,1349.44\\n274.36,281.65,769.15,1387.53\\n274.33,281.72,770.72,1415.32\\n274.30,281.79,772.21,1390.62\\n274.27,281.86,773.70,1406.06\\n274.23,281.93,774.83,1432.82\\n274.18,281.99,776.14,1426.64\\n274.14,282.06,777.38,1369.00\\n274.11,282.13,778.99,1367.97\\n274.07,282.20,780.30,1372.09\\n274.05,282.27,781.43,1369.00\\n274.01,282.35,782.43,1360.77\\n273.97,282.41,783.57,1382.38\\n273.93,282.48,784.96,1420.47\\n273.90,282.54,786.22,1405.03\\n273.85,282.62,787.48,1443.11\\n273.79,282.68,788.71,1475.02\\n273.73,282.69,789.83,1485.31\\n273.68,282.69,790.87,1491.49\\n273.64,282.71,791.98,1491.49\\n273.60,282.76,793.00,1442.08\\n273.56,282.82,793.96,1547.07\\n273.52,282.89,794.81,1641.77\\n273.44,282.92,795.58,1701.47\\n273.37,282.97,796.12,1761.17\\n273.21,283.03,797.04,1676.77\\n273.08,283.09,797.83,1740.59\\n272.95,283.15,798.11,1766.32\\n272.87,283.20,798.12,1710.74\\n272.87,283.25,797.94,1695.30\\n272.86,283.31,797.92,1777.64\\n272.80,283.38,798.39,1690.15\\n272.69,283.47,799.06,1655.15\\n272.58,283.53,800.00,1640.74\\n272.61,283.57,801.49,1666.47\\n272.65,283.61,803.62,1757.06\\n272.64,283.72,805.67,1784.85\\n272.73,283.85,807.26,1795.14\\n272.81,283.94,807.94,1842.49\\n272.89,284.07,808.09,1889.84\\n272.95,284.21,808.22,1841.46\\n273.02,284.32,808.25,1848.67\\n273.09,284.45,808.41,1923.81\\n273.17,284.60,809.16,2021.59\\n273.26,284.73,810.40,2159.52\\n273.36,284.85,811.73,2165.70\\n273.47,284.94,813.33,2118.35\\n273.58,285.05,814.80,2162.61\\n273.68,285.20,816.45,2115.26\\n273.76,285.37,818.36,2125.55\\n273.90,285.54,820.40,2183.20\\n274.06,285.74,822.31,2240.84\\n274.24,285.93,824.40,2194.52\\n274.42,286.10,827.03,2263.48\\n274.57,286.27,830.17,2409.65\\n274.72,286.44,833.60,2488.90\\n274.88,286.61,836.89,2360.24\\n275.05,286.78,840.36,2341.71\\n275.21,286.95,844.00,2418.91\\n275.39,287.10,847.25,2450.82\\n275.56,287.22,850.13,2515.67\\n275.72,287.35,852.44,2444.64\\n275.90,287.49,853.99,2502.85\\n276.08,287.66,855.23,2540.94\\n276.25,287.86,856.17,2604.25\\n276.42,288.06,857.82,2527.26\\n276.59,288.29,859.47,2598.59\\n276.74,288.52,860.86,2570.35\\n276.86,288.75,862.38,2595.39\\n277.00,288.99,864.14,2645.96\\n277.13,289.22,866.28,2909.43\\n277.27,289.47,868.70,3183.95\\n277.37,289.74,870.98,3215.45\\n277.49,290.02,873.25,3337.96\\n277.59,290.26,875.60,3338.59\\n277.70,290.51,878.15,3320.28\\n277.80,290.80,881.03,3269.96\\n277.89,291.10,883.84,3294.07\\n278.00,291.41,886.93,3368.25\\n278.08,291.76,889.93,3281.66\\n278.19,292.11,893.16,3413.28\\n278.27,292.46,896.38,3391.90\\n278.35,292.82,899.67,3467.26\\n278.44,293.17,903.53,3728.00\\n278.55,293.48,907.27,3478.41\\n278.69,293.79,910.48,3313.80\\n278.83,294.08,913.23,3644.22\\n278.94,294.36,914.77,3504.43\\n279.05,294.65,916.27,3769.48\\n279.16,294.95,919.02,3779.69\\n279.31,295.30,922.28,4051.37\\n279.45,295.67,925.55,4090.79\\n279.61,296.01,928.80,4463.86\\n279.86,296.32,932.73,4420.63\\n280.16,296.65,936.78,4550.89\\n280.43,296.95,942.11,4409.53\\n280.71,297.29,947.44,4642.16\\n280.98,297.66,953.09,5079.12\\n281.28,298.10,959.16,5064.89\\n281.61,298.52,964.09,4560.62\\n281.95,298.94,969.40,5017.50\\n282.31,299.38,974.79,4963.74\\n282.72,299.83,979.47,5045.68\\n283.02,300.35,983.61,5200.70\\n283.36,300.91,986.24,5300.73\\n283.72,301.42,988.61,4799.20\\n284.05,301.94,991.46,4864.19\\n284.31,302.48,998.45,5458.69\\n284.62,303.01,1003.57,5247.74\\n284.81,303.45,1010.13,5658.98\\n284.85,303.81,1017.63,5680.41\\n284.93,304.25,1025.07,5552.33\\n285.04,304.60,1032.20,5322.73\\n285.17,304.94,1039.10,5539.84\\n285.47,305.27,1045.13,6164.20\\n285.61,305.63,1049.45,6232.55\\n285.65,305.81,1052.16,6282.42\\n285.69,305.95,1053.60,6602.44\\n285.74,306.18,1055.77,6576.50\\n285.83,306.33,1060.64,6569.35\\n285.89,306.49,1066.66,6898.72\\n285.94,306.62,1072.64,6212.71\\n286.12,306.82,1077.49,5691.37\\n286.22,307.09,1081.96,4908.37\\n286.37,307.40,1086.54,4776.92\\n286.47,307.78,1091.77,5113.61\\n286.59,308.23,1097.08,5466.84\\n286.75,309.01,1101.83,6203.88\\n286.95,309.76,1106.32,6430.12\\n287.19,310.29,1110.63,6126.47\\n287.39,310.85,1116.91,6560.75\\n287.62,311.36,1120.12,7009.64\\n287.86,311.81,1123.24,8205.68\\n288.14,312.17,1128.19,9741.11\\n288.78,312.39,1132.66,11518.17\\n289.00,312.41,1136.27,12333.45\\n289.23,312.38,1139.32,11708.65\\n289.43,312.39,1143.66,9196.54\\n289.51,312.49,1149.64,8885.99\\n289.56,312.52,1155.63,9064.56\\n289.60,312.63,1160.35,8943.74\\n289.74,312.82,1163.82,9561.35\\n289.86,313.01,1168.81,10116.25\\n290.03,313.34,1174.31,10315.54\\n290.33,313.73,1183.36,10612.61\\n290.55,314.09,1194.43,10359.11\\n290.84,314.41,1206.65,10896.85\\n291.19,314.70,1221.10,10914.28\\n291.51,314.99,1235.80,10919.99\\n291.77,315.34,1247.42,10630.53\\n291.99,315.81,1257.32,11230.17\\n292.28,316.62,1264.12,11328.48\\n292.60,317.30,1269.46,11401.73\\n292.95,318.04,1282.57,11904.98\\n293.33,318.65,1300.79,12242.34\\n293.69,319.33,1317.37,12772.57\\n294.05,319.82,1331.06,13418.70\\n294.45,320.88,1342.24,14133.53\\n294.86,321.48,1354.27,14330.03\\n295.27,322.39,1371.65,14862.94\\n295.68,323.25,1389.34,15179.41\\n296.10,324.78,1411.10,15029.85\\n296.52,325.40,1431.12,15304.30\\n296.96,327.35,1449.29,15943.87\\n297.40,329.91,1462.86,16689.34\\n297.86,330.76,1476.14,16491.27\\n298.33,330.83,1491.74,16283.63\\n298.81,331.54,1509.11,16975.09\\n299.32,333.35,1527.68,17566.50\\n299.85,335.01,1546.89,18372.97\\n300.39,336.60,1566.16,18789.39\\n300.97,338.70,1584.94,18577.37\\n301.56,340.06,1602.65,18855.55\\n302.19,340.64,1618.73,18325.12\\n302.84,342.27,1632.62,18920.16\\n303.53,344.01,1643.50,20122.67\\n304.25,345.46,1655.91,20717.32\\n305.00,346.90,1668.79,21236.09\\n305.79,348.77,1683.75,21787.69\\n306.62,351.28,1693.94,22499.44\\n307.83,352.89,1705.63,23059.28\\n308.68,354.07,1717.40,23200.56\\n309.23,355.35,1729.33,22832.79\\n309.73,356.23,1740.14,23284.98\\n310.10,356.92,1743.10,23640.11\\n310.81,358.25,1748.62,24312.79\\n311.28,360.24,1755.23,24637.33\\n312.30,362.00,1757.19,25263.10\\n313.18,363.25,1761.50,26074.24\\n313.91,365.93,1770.29,26893.45\\n314.71,367.84,1778.20,27869.81\\n315.76,369.12,1778.01,28701.93\\n316.49,370.67,1776.53,28726.09\\n317.10,372.83,1778.96,28976.93\\n317.73,375.41,1783.59,29458.92\\n318.36,376.99,1784.23,30199.80\\n319.13,378.91,1783.36,30841.65\\n319.93,381.01,1783.42,31357.54\\n320.65,382.60,1788.95,31654.93\\n321.57,384.74,1798.42,31251.27\\n322.28,386.28,1802.10,29898.64\\n323.14,388.72,1807.85,30491.34\\n'}"
            ]
          },
          "metadata": {
            "tags": []
          },
          "execution_count": 2
        }
      ]
    },
    {
      "cell_type": "code",
      "metadata": {
        "id": "rLjO4XXGLWpL",
        "colab_type": "code",
        "colab": {}
      },
      "source": [
        ""
      ],
      "execution_count": 0,
      "outputs": []
    },
    {
      "cell_type": "code",
      "metadata": {
        "id": "3LHsXEy5FB3I",
        "colab_type": "code",
        "outputId": "f14879df-42b0-4407-a1df-5c66b4c98a94",
        "colab": {
          "base_uri": "https://localhost:8080/",
          "height": 557
        }
      },
      "source": [
        "\n",
        "data = pd.read_csv(\"dataset.csv\")\n",
        "data.head()\n",
        "window_size = 10\n",
        "gdp_data = data[\"Usa\"]\n",
        "gdp_data.head()\n",
        "gdp_data_c = gdp_data.copy()\n",
        "for i in range(window_size):\n",
        "  gdp_data = pd.concat([gdp_data,gdp_data_c.shift(-(i+1))],axis = 1)\n",
        "gdp_data.dropna(axis=0,inplace = True)\n",
        "\n",
        "#with pd.option_context('display.max_rows', None, 'display.max_columns', None):\n",
        "    #display(gdp_data)\n",
        "new_data = data.iloc[:,:-1]\n",
        "data2 = pd.concat([new_data,gdp_data],axis=1)\n",
        "\n",
        "data2 = data2.dropna()    \n",
        "\n",
        "\n",
        "\n",
        "#with pd.option_context('display.max_rows', None, 'display.max_columns', None):\n",
        "  #display(data2)\n",
        "  \n",
        "#training data\n",
        "data2x = data2.iloc[:-10,:-2]\n",
        "data2y = data2.iloc[:-10,-1]\n",
        "\n",
        "#with pd.option_context('display.max_rows', None, 'display.max_columns', None):\n",
        "    #display(data2x)\n",
        "    #display(data2y)\n",
        "\n",
        "#testing data\n",
        "\n",
        "data2tx = data2.iloc[-10:,:-2]\n",
        "data2ty = data2.iloc[-10:,-1]\n",
        "with pd.option_context('display.max_rows', None, 'display.max_columns', None):\n",
        "    display(data2tx)\n",
        "    display(data2ty)\n",
        "\n",
        "data2xn = data2x.values\n",
        "data2txn = data2tx.values\n",
        "import numpy as np\n",
        "\n",
        "scaler = MinMaxScaler(feature_range=(0, 1))\n",
        "scaled = scaler.fit_transform(data2xn)\n",
        "data2xn =scaled\n",
        "\n",
        "scaler = MinMaxScaler(feature_range=(0, 1))\n",
        "scaled = scaler.fit_transform(data2txn)\n",
        "data2txn =scaled\n",
        "\n",
        "\n",
        "\n",
        "#data2xn = data2xn.reshape(191,1,12)\n",
        "#data2txn = data2txn.reshape(10,1,12)\n",
        "\n",
        "  \n",
        "    \n",
        "\n",
        "    \n",
        "    \n",
        "\n"
      ],
      "execution_count": 0,
      "outputs": [
        {
          "output_type": "display_data",
          "data": {
            "text/plain": [
              "     Nitrous  Carbon  Methane       Usa       Usa       Usa       Usa  \\\n",
              "191   309.23  355.35  1729.33  22832.79  23284.98  23640.11  24312.79   \n",
              "192   309.73  356.23  1740.14  23284.98  23640.11  24312.79  24637.33   \n",
              "193   310.10  356.92  1743.10  23640.11  24312.79  24637.33  25263.10   \n",
              "194   310.81  358.25  1748.62  24312.79  24637.33  25263.10  26074.24   \n",
              "195   311.28  360.24  1755.23  24637.33  25263.10  26074.24  26893.45   \n",
              "196   312.30  362.00  1757.19  25263.10  26074.24  26893.45  27869.81   \n",
              "197   313.18  363.25  1761.50  26074.24  26893.45  27869.81  28701.93   \n",
              "198   313.91  365.93  1770.29  26893.45  27869.81  28701.93  28726.09   \n",
              "199   314.71  367.84  1778.20  27869.81  28701.93  28726.09  28976.93   \n",
              "200   315.76  369.12  1778.01  28701.93  28726.09  28976.93  29458.92   \n",
              "\n",
              "          Usa       Usa       Usa       Usa       Usa  \n",
              "191  24637.33  25263.10  26074.24  26893.45  27869.81  \n",
              "192  25263.10  26074.24  26893.45  27869.81  28701.93  \n",
              "193  26074.24  26893.45  27869.81  28701.93  28726.09  \n",
              "194  26893.45  27869.81  28701.93  28726.09  28976.93  \n",
              "195  27869.81  28701.93  28726.09  28976.93  29458.92  \n",
              "196  28701.93  28726.09  28976.93  29458.92  30199.80  \n",
              "197  28726.09  28976.93  29458.92  30199.80  30841.65  \n",
              "198  28976.93  29458.92  30199.80  30841.65  31357.54  \n",
              "199  29458.92  30199.80  30841.65  31357.54  31654.93  \n",
              "200  30199.80  30841.65  31357.54  31654.93  31251.27  "
            ],
            "text/html": [
              "<div>\n",
              "<style scoped>\n",
              "    .dataframe tbody tr th:only-of-type {\n",
              "        vertical-align: middle;\n",
              "    }\n",
              "\n",
              "    .dataframe tbody tr th {\n",
              "        vertical-align: top;\n",
              "    }\n",
              "\n",
              "    .dataframe thead th {\n",
              "        text-align: right;\n",
              "    }\n",
              "</style>\n",
              "<table border=\"1\" class=\"dataframe\">\n",
              "  <thead>\n",
              "    <tr style=\"text-align: right;\">\n",
              "      <th></th>\n",
              "      <th>Nitrous</th>\n",
              "      <th>Carbon</th>\n",
              "      <th>Methane</th>\n",
              "      <th>Usa</th>\n",
              "      <th>Usa</th>\n",
              "      <th>Usa</th>\n",
              "      <th>Usa</th>\n",
              "      <th>Usa</th>\n",
              "      <th>Usa</th>\n",
              "      <th>Usa</th>\n",
              "      <th>Usa</th>\n",
              "      <th>Usa</th>\n",
              "    </tr>\n",
              "  </thead>\n",
              "  <tbody>\n",
              "    <tr>\n",
              "      <th>191</th>\n",
              "      <td>309.23</td>\n",
              "      <td>355.35</td>\n",
              "      <td>1729.33</td>\n",
              "      <td>22832.79</td>\n",
              "      <td>23284.98</td>\n",
              "      <td>23640.11</td>\n",
              "      <td>24312.79</td>\n",
              "      <td>24637.33</td>\n",
              "      <td>25263.10</td>\n",
              "      <td>26074.24</td>\n",
              "      <td>26893.45</td>\n",
              "      <td>27869.81</td>\n",
              "    </tr>\n",
              "    <tr>\n",
              "      <th>192</th>\n",
              "      <td>309.73</td>\n",
              "      <td>356.23</td>\n",
              "      <td>1740.14</td>\n",
              "      <td>23284.98</td>\n",
              "      <td>23640.11</td>\n",
              "      <td>24312.79</td>\n",
              "      <td>24637.33</td>\n",
              "      <td>25263.10</td>\n",
              "      <td>26074.24</td>\n",
              "      <td>26893.45</td>\n",
              "      <td>27869.81</td>\n",
              "      <td>28701.93</td>\n",
              "    </tr>\n",
              "    <tr>\n",
              "      <th>193</th>\n",
              "      <td>310.10</td>\n",
              "      <td>356.92</td>\n",
              "      <td>1743.10</td>\n",
              "      <td>23640.11</td>\n",
              "      <td>24312.79</td>\n",
              "      <td>24637.33</td>\n",
              "      <td>25263.10</td>\n",
              "      <td>26074.24</td>\n",
              "      <td>26893.45</td>\n",
              "      <td>27869.81</td>\n",
              "      <td>28701.93</td>\n",
              "      <td>28726.09</td>\n",
              "    </tr>\n",
              "    <tr>\n",
              "      <th>194</th>\n",
              "      <td>310.81</td>\n",
              "      <td>358.25</td>\n",
              "      <td>1748.62</td>\n",
              "      <td>24312.79</td>\n",
              "      <td>24637.33</td>\n",
              "      <td>25263.10</td>\n",
              "      <td>26074.24</td>\n",
              "      <td>26893.45</td>\n",
              "      <td>27869.81</td>\n",
              "      <td>28701.93</td>\n",
              "      <td>28726.09</td>\n",
              "      <td>28976.93</td>\n",
              "    </tr>\n",
              "    <tr>\n",
              "      <th>195</th>\n",
              "      <td>311.28</td>\n",
              "      <td>360.24</td>\n",
              "      <td>1755.23</td>\n",
              "      <td>24637.33</td>\n",
              "      <td>25263.10</td>\n",
              "      <td>26074.24</td>\n",
              "      <td>26893.45</td>\n",
              "      <td>27869.81</td>\n",
              "      <td>28701.93</td>\n",
              "      <td>28726.09</td>\n",
              "      <td>28976.93</td>\n",
              "      <td>29458.92</td>\n",
              "    </tr>\n",
              "    <tr>\n",
              "      <th>196</th>\n",
              "      <td>312.30</td>\n",
              "      <td>362.00</td>\n",
              "      <td>1757.19</td>\n",
              "      <td>25263.10</td>\n",
              "      <td>26074.24</td>\n",
              "      <td>26893.45</td>\n",
              "      <td>27869.81</td>\n",
              "      <td>28701.93</td>\n",
              "      <td>28726.09</td>\n",
              "      <td>28976.93</td>\n",
              "      <td>29458.92</td>\n",
              "      <td>30199.80</td>\n",
              "    </tr>\n",
              "    <tr>\n",
              "      <th>197</th>\n",
              "      <td>313.18</td>\n",
              "      <td>363.25</td>\n",
              "      <td>1761.50</td>\n",
              "      <td>26074.24</td>\n",
              "      <td>26893.45</td>\n",
              "      <td>27869.81</td>\n",
              "      <td>28701.93</td>\n",
              "      <td>28726.09</td>\n",
              "      <td>28976.93</td>\n",
              "      <td>29458.92</td>\n",
              "      <td>30199.80</td>\n",
              "      <td>30841.65</td>\n",
              "    </tr>\n",
              "    <tr>\n",
              "      <th>198</th>\n",
              "      <td>313.91</td>\n",
              "      <td>365.93</td>\n",
              "      <td>1770.29</td>\n",
              "      <td>26893.45</td>\n",
              "      <td>27869.81</td>\n",
              "      <td>28701.93</td>\n",
              "      <td>28726.09</td>\n",
              "      <td>28976.93</td>\n",
              "      <td>29458.92</td>\n",
              "      <td>30199.80</td>\n",
              "      <td>30841.65</td>\n",
              "      <td>31357.54</td>\n",
              "    </tr>\n",
              "    <tr>\n",
              "      <th>199</th>\n",
              "      <td>314.71</td>\n",
              "      <td>367.84</td>\n",
              "      <td>1778.20</td>\n",
              "      <td>27869.81</td>\n",
              "      <td>28701.93</td>\n",
              "      <td>28726.09</td>\n",
              "      <td>28976.93</td>\n",
              "      <td>29458.92</td>\n",
              "      <td>30199.80</td>\n",
              "      <td>30841.65</td>\n",
              "      <td>31357.54</td>\n",
              "      <td>31654.93</td>\n",
              "    </tr>\n",
              "    <tr>\n",
              "      <th>200</th>\n",
              "      <td>315.76</td>\n",
              "      <td>369.12</td>\n",
              "      <td>1778.01</td>\n",
              "      <td>28701.93</td>\n",
              "      <td>28726.09</td>\n",
              "      <td>28976.93</td>\n",
              "      <td>29458.92</td>\n",
              "      <td>30199.80</td>\n",
              "      <td>30841.65</td>\n",
              "      <td>31357.54</td>\n",
              "      <td>31654.93</td>\n",
              "      <td>31251.27</td>\n",
              "    </tr>\n",
              "  </tbody>\n",
              "</table>\n",
              "</div>"
            ]
          },
          "metadata": {
            "tags": []
          }
        },
        {
          "output_type": "display_data",
          "data": {
            "text/plain": [
              "191    28726.09\n",
              "192    28976.93\n",
              "193    29458.92\n",
              "194    30199.80\n",
              "195    30841.65\n",
              "196    31357.54\n",
              "197    31654.93\n",
              "198    31251.27\n",
              "199    29898.64\n",
              "200    30491.34\n",
              "Name: Usa, dtype: float64"
            ]
          },
          "metadata": {
            "tags": []
          }
        }
      ]
    },
    {
      "cell_type": "code",
      "metadata": {
        "id": "7XSKSHHlgu4h",
        "colab_type": "code",
        "colab": {}
      },
      "source": [
        "model = Sequential()\n",
        "model.add(LSTM(50, input_shape=(data2xn.shape[1], data2xn.shape[2])))\n",
        "model.add(Dropout(0.1))\n",
        "model.add(Dense(1))\n",
        "\n"
      ],
      "execution_count": 0,
      "outputs": []
    },
    {
      "cell_type": "code",
      "metadata": {
        "id": "JuQ94DXxlQJK",
        "colab_type": "code",
        "colab": {}
      },
      "source": [
        "model.compile(loss='mae', optimizer='adam')\n",
        "# fit network\n",
        "history = model.fit(data2xn, data2y, epochs=10000)\n",
        "# plot history\n",
        "pyplot.plot(history.history['loss'], label='train')\n",
        "pyplot.legend()\n",
        "pyplot.show()\n",
        "    "
      ],
      "execution_count": 0,
      "outputs": []
    },
    {
      "cell_type": "code",
      "metadata": {
        "id": "LqT7RYMuNZM_",
        "colab_type": "code",
        "colab": {}
      },
      "source": [
        ""
      ],
      "execution_count": 0,
      "outputs": []
    }
  ]
}