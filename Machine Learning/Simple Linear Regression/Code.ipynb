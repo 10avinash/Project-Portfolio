{
 "cells": [
  {
   "cell_type": "markdown",
   "metadata": {},
   "source": [
    "Basic importing of requisite libraries and data files. A scatter plot of profit vs population with marker * is plotted."
   ]
  },
  {
   "cell_type": "code",
   "execution_count": 2,
   "metadata": {},
   "outputs": [
    {
     "data": {
      "text/plain": [
       "Text(0.5,0,'Population')"
      ]
     },
     "execution_count": 2,
     "metadata": {},
     "output_type": "execute_result"
    }
   ],
   "source": [
    "import numpy as np\n",
    "import matplotlib.pyplot as plt\n",
    "data = 'ex1data1.txt'\n",
    "x, y = np.loadtxt(data, delimiter=',', usecols=(0, 1), unpack=True)\n",
    "#fc = []   # first column data\n",
    "#sc = [] # second column data\n",
    "#i=0\n",
    "#for line in fp:\n",
    "    #units = line.split(',')\n",
    "    #fc.append(units[0])\n",
    "    #sc.append(units[1])\n",
    "    \n",
    "plt.scatter(x,y, s=40, c='b', marker='*')\n",
    "plt.ylabel('Profit')\n",
    "plt.xlabel('Population')\n",
    "\n"
   ]
  },
  {
   "cell_type": "markdown",
   "metadata": {},
   "source": [
    "To take into account the intercept term, we add an additional first column to x and set it to all ones."
   ]
  },
  {
   "cell_type": "code",
   "execution_count": 3,
   "metadata": {},
   "outputs": [],
   "source": [
    "X = np.ones((len(x), 2))\n",
    "X[:,1] = x"
   ]
  },
  {
   "cell_type": "markdown",
   "metadata": {},
   "source": [
    "Initializing intercept term  to zero."
   ]
  },
  {
   "cell_type": "code",
   "execution_count": 8,
   "metadata": {},
   "outputs": [],
   "source": [
    "theta = np.zeros(2)"
   ]
  },
  {
   "cell_type": "raw",
   "metadata": {},
   "source": [
    "Defining number of iterations and learning rate ( mentioned as 0.5 in the assignment)"
   ]
  },
  {
   "cell_type": "code",
   "execution_count": 74,
   "metadata": {},
   "outputs": [],
   "source": [
    "iterations = 15000\n",
    "alpha = 0.02\n"
   ]
  },
  {
   "cell_type": "markdown",
   "metadata": {},
   "source": [
    " [numpy.dot](https://docs.scipy.org/doc/numpy/reference/generated/numpy.dot.html) does the dot product of two arrays.\n",
    "A computecost function is defined will return the cost."
   ]
  },
  {
   "cell_type": "code",
   "execution_count": 62,
   "metadata": {},
   "outputs": [],
   "source": [
    "def computeCost(X, y, theta):\n",
    "    m = len(y)\n",
    "    return np.dot((np.dot(X, theta) - y), (np.dot(X, theta) - y)) / (2 * m)\n"
   ]
  },
  {
   "cell_type": "markdown",
   "metadata": {},
   "source": [
    "Here a simple linear regression function is defined which updates based on cost function of gradient descent."
   ]
  },
  {
   "cell_type": "code",
   "execution_count": 52,
   "metadata": {},
   "outputs": [],
   "source": [
    "def gradientDescent(X, y, theta, alpha, iterations):\n",
    "    m = len(y)\n",
    "    cost = np.zeros(iterations)\n",
    "    thetaMod = theta.copy()\n",
    "    thetaHist = np.zeros(iterations)\n",
    "    \n",
    "    for i in range(iterations):\n",
    "        thetaMod = thetaMod - np.dot(X.T, (np.dot(X, thetaMod) - y)) * alpha / m\n",
    "        thetaHist[i] = thetaMod[1]        \n",
    "        cost[i] = computeCost(X, y, thetaMod)\n",
    "        \n",
    "    return thetaMod, thetaHist, cost\n"
   ]
  },
  {
   "cell_type": "code",
   "execution_count": 75,
   "metadata": {
    "scrolled": false
   },
   "outputs": [
    {
     "data": {
      "text/plain": [
       "array([-3.89578088,  1.19303364])"
      ]
     },
     "execution_count": 75,
     "metadata": {},
     "output_type": "execute_result"
    }
   ],
   "source": [
    "gradient, thetaHist, cost = gradientDescent(X, y, theta, alpha, iterations)  \n",
    "gradient"
   ]
  },
  {
   "cell_type": "markdown",
   "metadata": {},
   "source": [
    "Plotting the cost per iteration. The cost value never increases, as it is expected."
   ]
  },
  {
   "cell_type": "code",
   "execution_count": 76,
   "metadata": {},
   "outputs": [
    {
     "data": {
      "image/png": "[encoded data removed]",
      "text/plain": [
       "<Figure size 1080x360 with 2 Axes>"
      ]
     },
     "metadata": {},
     "output_type": "display_data"
    }
   ],
   "source": [
    "fig = plt.figure(figsize=(15, 5))\n",
    "fig.subplots_adjust(wspace=0.3)\n",
    "ax1 = fig.add_subplot(121)\n",
    "ax2 = fig.add_subplot(122)\n",
    "\n",
    "# Minimization path:\n",
    "ax1.scatter(thetaHist, cost,  marker='o', s=6)\n",
    "ax1.set_xlabel(r'$\\theta_1$')\n",
    "ax1.set_ylabel(r\"Cost function - $J(\\theta)$\");\n",
    "\n",
    "# Cost-Iterations plot:\n",
    "ax2.scatter(np.arange(iterations), cost,  marker='o', s=6)\n",
    "ax2.set_xlabel(\"Iterations\")\n",
    "ax2.set_ylabel(r\"Cost function - $J(\\theta)$\");"
   ]
  },
  {
   "cell_type": "markdown",
   "metadata": {},
   "source": [
    "For the sake of representationthe linear fit graph along with scatter plot is shown."
   ]
  },
  {
   "cell_type": "code",
   "execution_count": 70,
   "metadata": {
    "scrolled": true
   },
   "outputs": [
    {
     "data": {
      "image/png": "[encoded data removed]",
      "text/plain": [
       "<Figure size 432x288 with 1 Axes>"
      ]
     },
     "metadata": {},
     "output_type": "display_data"
    }
   ],
   "source": [
    "def linearFit(value):\n",
    "    return gradient[0] + gradient[1] * value\n",
    "\n",
    "plt.scatter(X[:,1], y, marker='*', c='b', s=40, label='data')\n",
    "plt.plot(X[:, 1], linearFit(X[:, 1]), label='h(x) = %0.2f + %0.2fx'%(gradient[0], gradient[1]))\n",
    "plt.xlabel(\"Population\")\n",
    "plt.ylabel(\"Profit\")\n",
    "pst = plt.legend(loc='lower right', frameon=True)\n",
    "pst.get_frame().set_edgecolor('k');"
   ]
  }
 ],
 "metadata": {
  "kernelspec": {
   "display_name": "Python 2",
   "language": "python",
   "name": "python2"
  },
  "language_info": {
   "codemirror_mode": {
    "name": "ipython",
    "version": 2
   },
   "file_extension": ".py",
   "mimetype": "text/x-python",
   "name": "python",
   "nbconvert_exporter": "python",
   "pygments_lexer": "ipython2",
   "version": "2.7.12"
  }
 },
 "nbformat": 4,
 "nbformat_minor": 2
}
