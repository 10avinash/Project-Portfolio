{
  "nbformat": 4,
  "nbformat_minor": 0,
  "metadata": {
    "colab": {
      "name": "proj.ipynb",
      "provenance": [],
      "collapsed_sections": []
    },
    "kernelspec": {
      "name": "python3",
      "display_name": "Python 3"
    },
    "accelerator": "GPU"
  },
  "cells": [
    {
      "cell_type": "markdown",
      "metadata": {
        "id": "lI4uoE6O7t_c",
        "colab_type": "text"
      },
      "source": [
        "In the first stage, I want to build a single sequence prediction using lstm. So here my aim is that I want to predict the GDP of India using the past GDP of India. If the results are encouraging and time permits we can explore sectoral divisions also. I am probably going to use keras.\n"
      ]
    },
    {
      "cell_type": "code",
      "metadata": {
        "id": "JQ8Z8v4JyUUr",
        "colab_type": "code",
        "outputId": "63f519fe-d2a0-4115-8811-d7d5dbb1ff8a",
        "colab": {
          "base_uri": "https://localhost:8080/",
          "height": 53
        }
      },
      "source": [
        "import keras\n",
        "print(keras.__version__)"
      ],
      "execution_count": 0,
      "outputs": [
        {
          "output_type": "stream",
          "text": [
            "Using TensorFlow backend.\n"
          ],
          "name": "stderr"
        },
        {
          "output_type": "stream",
          "text": [
            "2.1.6\n"
          ],
          "name": "stdout"
        }
      ]
    },
    {
      "cell_type": "code",
      "metadata": {
        "id": "dw4vxBsVTfys",
        "colab_type": "code",
        "outputId": "cf0f3a90-f993-4f68-8d69-aa79490fed8c",
        "colab": {
          "base_uri": "https://localhost:8080/",
          "height": 339
        }
      },
      "source": [
        "!pip install -q keras==2.2.2\n",
        "!pip install git+https://www.github.com/keras-team/keras-contrib.git\n"
      ],
      "execution_count": 0,
      "outputs": [
        {
          "output_type": "stream",
          "text": [
            "\u001b[31mtensorflow 1.12.0rc2 has requirement keras-applications>=1.0.6, but you'll have keras-applications 1.0.4 which is incompatible.\u001b[0m\n",
            "\u001b[31mtensorflow 1.12.0rc2 has requirement keras-preprocessing>=1.0.5, but you'll have keras-preprocessing 1.0.2 which is incompatible.\u001b[0m\n",
            "Collecting git+https://www.github.com/keras-team/keras-contrib.git\n",
            "  Cloning https://www.github.com/keras-team/keras-contrib.git to /tmp/pip-req-build-e7fux1av\n",
            "Requirement already satisfied: keras in /usr/local/lib/python3.6/dist-packages (from keras-contrib==2.0.8) (2.2.2)\n",
            "Requirement already satisfied: keras-applications==1.0.4 in /usr/local/lib/python3.6/dist-packages (from keras->keras-contrib==2.0.8) (1.0.4)\n",
            "Requirement already satisfied: h5py in /usr/local/lib/python3.6/dist-packages (from keras->keras-contrib==2.0.8) (2.8.0)\n",
            "Requirement already satisfied: keras-preprocessing==1.0.2 in /usr/local/lib/python3.6/dist-packages (from keras->keras-contrib==2.0.8) (1.0.2)\n",
            "Requirement already satisfied: pyyaml in /usr/local/lib/python3.6/dist-packages (from keras->keras-contrib==2.0.8) (3.13)\n",
            "Requirement already satisfied: six>=1.9.0 in /usr/local/lib/python3.6/dist-packages (from keras->keras-contrib==2.0.8) (1.11.0)\n",
            "Requirement already satisfied: numpy>=1.9.1 in /usr/local/lib/python3.6/dist-packages (from keras->keras-contrib==2.0.8) (1.14.6)\n",
            "Requirement already satisfied: scipy>=0.14 in /usr/local/lib/python3.6/dist-packages (from keras->keras-contrib==2.0.8) (0.19.1)\n",
            "Building wheels for collected packages: keras-contrib\n",
            "  Running setup.py bdist_wheel for keras-contrib ... \u001b[?25l-\b \b\\\b \bdone\n",
            "\u001b[?25h  Stored in directory: /tmp/pip-ephem-wheel-cache-xqa5es4g/wheels/11/27/c8/4ed56de7b55f4f61244e2dc6ef3cdbaff2692527a2ce6502ba\n",
            "Successfully built keras-contrib\n",
            "Installing collected packages: keras-contrib\n",
            "Successfully installed keras-contrib-2.0.8\n"
          ],
          "name": "stdout"
        }
      ]
    },
    {
      "cell_type": "code",
      "metadata": {
        "id": "yhfunrKT1-t6",
        "colab_type": "code",
        "outputId": "9fc3ad90-4f99-40d3-d237-f129d071783f",
        "colab": {
          "resources": {
            "http://localhost:8080/nbextensions/google.colab/files.js": {
              "data": "Ly8gQ29weXJpZ2h0IDIwMTcgR29vZ2xlIExMQwovLwovLyBMaWNlbnNlZCB1bmRlciB0aGUgQXBhY2hlIExpY2Vuc2UsIFZlcnNpb24gMi4wICh0aGUgIkxpY2Vuc2UiKTsKLy8geW91IG1heSBub3QgdXNlIHRoaXMgZmlsZSBleGNlcHQgaW4gY29tcGxpYW5jZSB3aXRoIHRoZSBMaWNlbnNlLgovLyBZb3UgbWF5IG9idGFpbiBhIGNvcHkgb2YgdGhlIExpY2Vuc2UgYXQKLy8KLy8gICAgICBodHRwOi8vd3d3LmFwYWNoZS5vcmcvbGljZW5zZXMvTElDRU5TRS0yLjAKLy8KLy8gVW5sZXNzIHJlcXVpcmVkIGJ5IGFwcGxpY2FibGUgbGF3IG9yIGFncmVlZCB0byBpbiB3cml0aW5nLCBzb2Z0d2FyZQovLyBkaXN0cmlidXRlZCB1bmRlciB0aGUgTGljZW5zZSBpcyBkaXN0cmlidXRlZCBvbiBhbiAiQVMgSVMiIEJBU0lTLAovLyBXSVRIT1VUIFdBUlJBTlRJRVMgT1IgQ09ORElUSU9OUyBPRiBBTlkgS0lORCwgZWl0aGVyIGV4cHJlc3Mgb3IgaW1wbGllZC4KLy8gU2VlIHRoZSBMaWNlbnNlIGZvciB0aGUgc3BlY2lmaWMgbGFuZ3VhZ2UgZ292ZXJuaW5nIHBlcm1pc3Npb25zIGFuZAovLyBsaW1pdGF0aW9ucyB1bmRlciB0aGUgTGljZW5zZS4KCi8qKgogKiBAZmlsZW92ZXJ2aWV3IEhlbHBlcnMgZm9yIGdvb2dsZS5jb2xhYiBQeXRob24gbW9kdWxlLgogKi8KKGZ1bmN0aW9uKHNjb3BlKSB7CmZ1bmN0aW9uIHNwYW4odGV4dCwgc3R5bGVBdHRyaWJ1dGVzID0ge30pIHsKICBjb25zdCBlbGVtZW50ID0gZG9jdW1lbnQuY3JlYXRlRWxlbWVudCgnc3BhbicpOwogIGVsZW1lbnQudGV4dENvbnRlbnQgPSB0ZXh0OwogIGZvciAoY29uc3Qga2V5IG9mIE9iamVjdC5rZXlzKHN0eWxlQXR0cmlidXRlcykpIHsKICAgIGVsZW1lbnQuc3R5bGVba2V5XSA9IHN0eWxlQXR0cmlidXRlc1trZXldOwogIH0KICByZXR1cm4gZWxlbWVudDsKfQoKLy8gTWF4IG51bWJlciBvZiBieXRlcyB3aGljaCB3aWxsIGJlIHVwbG9hZGVkIGF0IGEgdGltZS4KY29uc3QgTUFYX1BBWUxPQURfU0laRSA9IDEwMCAqIDEwMjQ7Ci8vIE1heCBhbW91bnQgb2YgdGltZSB0byBibG9jayB3YWl0aW5nIGZvciB0aGUgdXNlci4KY29uc3QgRklMRV9DSEFOR0VfVElNRU9VVF9NUyA9IDMwICogMTAwMDsKCmZ1bmN0aW9uIF91cGxvYWRGaWxlcyhpbnB1dElkLCBvdXRwdXRJZCkgewogIGNvbnN0IHN0ZXBzID0gdXBsb2FkRmlsZXNTdGVwKGlucHV0SWQsIG91dHB1dElkKTsKICBjb25zdCBvdXRwdXRFbGVtZW50ID0gZG9jdW1lbnQuZ2V0RWxlbWVudEJ5SWQob3V0cHV0SWQpOwogIC8vIENhY2hlIHN0ZXBzIG9uIHRoZSBvdXRwdXRFbGVtZW50IHRvIG1ha2UgaXQgYXZhaWxhYmxlIGZvciB0aGUgbmV4dCBjYWxsCiAgLy8gdG8gdXBsb2FkRmlsZXNDb250aW51ZSBmcm9tIFB5dGhvbi4KICBvdXRwdXRFbGVtZW50LnN0ZXBzID0gc3RlcHM7CgogIHJldHVybiBfdXBsb2FkRmlsZXNDb250aW51ZShvdXRwdXRJZCk7Cn0KCi8vIFRoaXMgaXMgcm91Z2hseSBhbiBhc3luYyBnZW5lcmF0b3IgKG5vdCBzdXBwb3J0ZWQgaW4gdGhlIGJyb3dzZXIgeWV0KSwKLy8gd2hlcmUgdGhlcmUgYXJlIG11bHRpcGxlIGFzeW5jaHJvbm91cyBzdGVwcyBhbmQgdGhlIFB5dGhvbiBzaWRlIGlzIGdvaW5nCi8vIHRvIHBvbGwgZm9yIGNvbXBsZXRpb24gb2YgZWFjaCBzdGVwLgovLyBUaGlzIHVzZXMgYSBQcm9taXNlIHRvIGJsb2NrIHRoZSBweXRob24gc2lkZSBvbiBjb21wbGV0aW9uIG9mIGVhY2ggc3RlcCwKLy8gdGhlbiBwYXNzZXMgdGhlIHJlc3VsdCBvZiB0aGUgcHJldmlvdXMgc3RlcCBhcyB0aGUgaW5wdXQgdG8gdGhlIG5leHQgc3RlcC4KZnVuY3Rpb24gX3VwbG9hZEZpbGVzQ29udGludWUob3V0cHV0SWQpIHsKICBjb25zdCBvdXRwdXRFbGVtZW50ID0gZG9jdW1lbnQuZ2V0RWxlbWVudEJ5SWQob3V0cHV0SWQpOwogIGNvbnN0IHN0ZXBzID0gb3V0cHV0RWxlbWVudC5zdGVwczsKCiAgY29uc3QgbmV4dCA9IHN0ZXBzLm5leHQob3V0cHV0RWxlbWVudC5sYXN0UHJvbWlzZVZhbHVlKTsKICByZXR1cm4gUHJvbWlzZS5yZXNvbHZlKG5leHQudmFsdWUucHJvbWlzZSkudGhlbigodmFsdWUpID0+IHsKICAgIC8vIENhY2hlIHRoZSBsYXN0IHByb21pc2UgdmFsdWUgdG8gbWFrZSBpdCBhdmFpbGFibGUgdG8gdGhlIG5leHQKICAgIC8vIHN0ZXAgb2YgdGhlIGdlbmVyYXRvci4KICAgIG91dHB1dEVsZW1lbnQubGFzdFByb21pc2VWYWx1ZSA9IHZhbHVlOwogICAgcmV0dXJuIG5leHQudmFsdWUucmVzcG9uc2U7CiAgfSk7Cn0KCi8qKgogKiBHZW5lcmF0b3IgZnVuY3Rpb24gd2hpY2ggaXMgY2FsbGVkIGJldHdlZW4gZWFjaCBhc3luYyBzdGVwIG9mIHRoZSB1cGxvYWQKICogcHJvY2Vzcy4KICogQHBhcmFtIHtzdHJpbmd9IGlucHV0SWQgRWxlbWVudCBJRCBvZiB0aGUgaW5wdXQgZmlsZSBwaWNrZXIgZWxlbWVudC4KICogQHBhcmFtIHtzdHJpbmd9IG91dHB1dElkIEVsZW1lbnQgSUQgb2YgdGhlIG91dHB1dCBkaXNwbGF5LgogKiBAcmV0dXJuIHshSXRlcmFibGU8IU9iamVjdD59IEl0ZXJhYmxlIG9mIG5leHQgc3RlcHMuCiAqLwpmdW5jdGlvbiogdXBsb2FkRmlsZXNTdGVwKGlucHV0SWQsIG91dHB1dElkKSB7CiAgY29uc3QgaW5wdXRFbGVtZW50ID0gZG9jdW1lbnQuZ2V0RWxlbWVudEJ5SWQoaW5wdXRJZCk7CiAgaW5wdXRFbGVtZW50LmRpc2FibGVkID0gZmFsc2U7CgogIGNvbnN0IG91dHB1dEVsZW1lbnQgPSBkb2N1bWVudC5nZXRFbGVtZW50QnlJZChvdXRwdXRJZCk7CiAgb3V0cHV0RWxlbWVudC5pbm5lckhUTUwgPSAnJzsKCiAgY29uc3QgcGlja2VkUHJvbWlzZSA9IG5ldyBQcm9taXNlKChyZXNvbHZlKSA9PiB7CiAgICBpbnB1dEVsZW1lbnQuYWRkRXZlbnRMaXN0ZW5lcignY2hhbmdlJywgKGUpID0+IHsKICAgICAgcmVzb2x2ZShlLnRhcmdldC5maWxlcyk7CiAgICB9KTsKICB9KTsKCiAgY29uc3QgY2FuY2VsID0gZG9jdW1lbnQuY3JlYXRlRWxlbWVudCgnYnV0dG9uJyk7CiAgaW5wdXRFbGVtZW50LnBhcmVudEVsZW1lbnQuYXBwZW5kQ2hpbGQoY2FuY2VsKTsKICBjYW5jZWwudGV4dENvbnRlbnQgPSAnQ2FuY2VsIHVwbG9hZCc7CiAgY29uc3QgY2FuY2VsUHJvbWlzZSA9IG5ldyBQcm9taXNlKChyZXNvbHZlKSA9PiB7CiAgICBjYW5jZWwub25jbGljayA9ICgpID0+IHsKICAgICAgcmVzb2x2ZShudWxsKTsKICAgIH07CiAgfSk7CgogIC8vIENhbmNlbCB1cGxvYWQgaWYgdXNlciBoYXNuJ3QgcGlja2VkIGFueXRoaW5nIGluIHRpbWVvdXQuCiAgY29uc3QgdGltZW91dFByb21pc2UgPSBuZXcgUHJvbWlzZSgocmVzb2x2ZSkgPT4gewogICAgc2V0VGltZW91dCgoKSA9PiB7CiAgICAgIHJlc29sdmUobnVsbCk7CiAgICB9LCBGSUxFX0NIQU5HRV9USU1FT1VUX01TKTsKICB9KTsKCiAgLy8gV2FpdCBmb3IgdGhlIHVzZXIgdG8gcGljayB0aGUgZmlsZXMuCiAgY29uc3QgZmlsZXMgPSB5aWVsZCB7CiAgICBwcm9taXNlOiBQcm9taXNlLnJhY2UoW3BpY2tlZFByb21pc2UsIHRpbWVvdXRQcm9taXNlLCBjYW5jZWxQcm9taXNlXSksCiAgICByZXNwb25zZTogewogICAgICBhY3Rpb246ICdzdGFydGluZycsCiAgICB9CiAgfTsKCiAgaWYgKCFmaWxlcykgewogICAgcmV0dXJuIHsKICAgICAgcmVzcG9uc2U6IHsKICAgICAgICBhY3Rpb246ICdjb21wbGV0ZScsCiAgICAgIH0KICAgIH07CiAgfQoKICBjYW5jZWwucmVtb3ZlKCk7CgogIC8vIERpc2FibGUgdGhlIGlucHV0IGVsZW1lbnQgc2luY2UgZnVydGhlciBwaWNrcyBhcmUgbm90IGFsbG93ZWQuCiAgaW5wdXRFbGVtZW50LmRpc2FibGVkID0gdHJ1ZTsKCiAgZm9yIChjb25zdCBmaWxlIG9mIGZpbGVzKSB7CiAgICBjb25zdCBsaSA9IGRvY3VtZW50LmNyZWF0ZUVsZW1lbnQoJ2xpJyk7CiAgICBsaS5hcHBlbmQoc3BhbihmaWxlLm5hbWUsIHtmb250V2VpZ2h0OiAnYm9sZCd9KSk7CiAgICBsaS5hcHBlbmQoc3BhbigKICAgICAgICBgKCR7ZmlsZS50eXBlIHx8ICduL2EnfSkgLSAke2ZpbGUuc2l6ZX0gYnl0ZXMsIGAgKwogICAgICAgIGBsYXN0IG1vZGlmaWVkOiAkewogICAgICAgICAgICBmaWxlLmxhc3RNb2RpZmllZERhdGUgPyBmaWxlLmxhc3RNb2RpZmllZERhdGUudG9Mb2NhbGVEYXRlU3RyaW5nKCkgOgogICAgICAgICAgICAgICAgICAgICAgICAgICAgICAgICAgICAnbi9hJ30gLSBgKSk7CiAgICBjb25zdCBwZXJjZW50ID0gc3BhbignMCUgZG9uZScpOwogICAgbGkuYXBwZW5kQ2hpbGQocGVyY2VudCk7CgogICAgb3V0cHV0RWxlbWVudC5hcHBlbmRDaGlsZChsaSk7CgogICAgY29uc3QgZmlsZURhdGFQcm9taXNlID0gbmV3IFByb21pc2UoKHJlc29sdmUpID0+IHsKICAgICAgY29uc3QgcmVhZGVyID0gbmV3IEZpbGVSZWFkZXIoKTsKICAgICAgcmVhZGVyLm9ubG9hZCA9IChlKSA9PiB7CiAgICAgICAgcmVzb2x2ZShlLnRhcmdldC5yZXN1bHQpOwogICAgICB9OwogICAgICByZWFkZXIucmVhZEFzQXJyYXlCdWZmZXIoZmlsZSk7CiAgICB9KTsKICAgIC8vIFdhaXQgZm9yIHRoZSBkYXRhIHRvIGJlIHJlYWR5LgogICAgbGV0IGZpbGVEYXRhID0geWllbGQgewogICAgICBwcm9taXNlOiBmaWxlRGF0YVByb21pc2UsCiAgICAgIHJlc3BvbnNlOiB7CiAgICAgICAgYWN0aW9uOiAnY29udGludWUnLAogICAgICB9CiAgICB9OwoKICAgIC8vIFVzZSBhIGNodW5rZWQgc2VuZGluZyB0byBhdm9pZCBtZXNzYWdlIHNpemUgbGltaXRzLiBTZWUgYi82MjExNTY2MC4KICAgIGxldCBwb3NpdGlvbiA9IDA7CiAgICB3aGlsZSAocG9zaXRpb24gPCBmaWxlRGF0YS5ieXRlTGVuZ3RoKSB7CiAgICAgIGNvbnN0IGxlbmd0aCA9IE1hdGgubWluKGZpbGVEYXRhLmJ5dGVMZW5ndGggLSBwb3NpdGlvbiwgTUFYX1BBWUxPQURfU0laRSk7CiAgICAgIGNvbnN0IGNodW5rID0gbmV3IFVpbnQ4QXJyYXkoZmlsZURhdGEsIHBvc2l0aW9uLCBsZW5ndGgpOwogICAgICBwb3NpdGlvbiArPSBsZW5ndGg7CgogICAgICBjb25zdCBiYXNlNjQgPSBidG9hKFN0cmluZy5mcm9tQ2hhckNvZGUuYXBwbHkobnVsbCwgY2h1bmspKTsKICAgICAgeWllbGQgewogICAgICAgIHJlc3BvbnNlOiB7CiAgICAgICAgICBhY3Rpb246ICdhcHBlbmQnLAogICAgICAgICAgZmlsZTogZmlsZS5uYW1lLAogICAgICAgICAgZGF0YTogYmFzZTY0LAogICAgICAgIH0sCiAgICAgIH07CiAgICAgIHBlcmNlbnQudGV4dENvbnRlbnQgPQogICAgICAgICAgYCR7TWF0aC5yb3VuZCgocG9zaXRpb24gLyBmaWxlRGF0YS5ieXRlTGVuZ3RoKSAqIDEwMCl9JSBkb25lYDsKICAgIH0KICB9CgogIC8vIEFsbCBkb25lLgogIHlpZWxkIHsKICAgIHJlc3BvbnNlOiB7CiAgICAgIGFjdGlvbjogJ2NvbXBsZXRlJywKICAgIH0KICB9Owp9CgpzY29wZS5nb29nbGUgPSBzY29wZS5nb29nbGUgfHwge307CnNjb3BlLmdvb2dsZS5jb2xhYiA9IHNjb3BlLmdvb2dsZS5jb2xhYiB8fCB7fTsKc2NvcGUuZ29vZ2xlLmNvbGFiLl9maWxlcyA9IHsKICBfdXBsb2FkRmlsZXMsCiAgX3VwbG9hZEZpbGVzQ29udGludWUsCn07Cn0pKHNlbGYpOwo=",
              "ok": true,
              "headers": [
                [
                  "content-type",
                  "application/javascript"
                ]
              ],
              "status": 200,
              "status_text": "OK"
            }
          },
          "base_uri": "https://localhost:8080/",
          "height": 119
        }
      },
      "source": [
        "import pandas as pd\n",
        "from pandas import read_csv\n",
        "from matplotlib import pyplot\n",
        "from keras.models import Sequential\n",
        "from keras.layers.core import Dense, Activation, Dropout\n",
        "from keras.layers.recurrent import LSTM\n",
        "\n",
        "\n",
        "from google.colab import files\n",
        "files.upload()"
      ],
      "execution_count": 0,
      "outputs": [
        {
          "output_type": "display_data",
          "data": {
            "text/html": [
              "\n",
              "     <input type=\"file\" id=\"files-026bf567-b948-4ec9-9b4e-e60c61629a25\" name=\"files[]\" multiple disabled />\n",
              "     <output id=\"result-026bf567-b948-4ec9-9b4e-e60c61629a25\">\n",
              "      Upload widget is only available when the cell has been executed in the\n",
              "      current browser session. Please rerun this cell to enable.\n",
              "      </output>\n",
              "      <script src=\"/nbextensions/google.colab/files.js\"></script> "
            ],
            "text/plain": [
              "<IPython.core.display.HTML object>"
            ]
          },
          "metadata": {
            "tags": []
          }
        },
        {
          "output_type": "stream",
          "text": [
            "Saving gdpdatafinal.csv to gdpdatafinal.csv\n"
          ],
          "name": "stdout"
        },
        {
          "output_type": "execute_result",
          "data": {
            "text/plain": [
              "{'gdpdatafinal.csv': b'time,gdp\\n1,3561.93\\n2,3284.25\\n3,4088.57\\n4,4149.01\\n5,3686.8\\n6,3451.39\\n7,4243\\n8,4351.41\\n9,3938.42\\n10,3738.08\\n11,4497.16\\n12,4610.43\\n13,4217.95\\n14,3965.61\\n15,4778.7\\n16,4903.77\\n17,4432.84\\n18,4229.97\\n19,4989.21\\n20,4990.26\\n21,4635.24\\n22,4452.3\\n23,5326.42\\n24,5312.09\\n25,4870.35\\n26,4691.69\\n27,5414.82\\n28,5506.04\\n29,5133.17\\n30,5114.48\\n31,6026.84\\n32,5953.11\\n33,5560.72\\n34,5493.12\\n35,6344.64\\n36,6489.21\\n37,6064.16\\n38,5980.65\\n39,6958.35\\n40,7157.86\\n41,6649.89\\n42,6588.27\\n43,7613.13\\n44,7859.91\\n45,7259.86\\n46,7182.1\\n47,8317.37\\n48,8537.85\\n49,7826.2\\n50,7738.5\\n51,8799.8\\n52,9029.24\\n53,8305.57\\n54,8347.8\\n'}"
            ]
          },
          "metadata": {
            "tags": []
          },
          "execution_count": 3
        }
      ]
    },
    {
      "cell_type": "code",
      "metadata": {
        "id": "4bnLf2l20rsK",
        "colab_type": "code",
        "outputId": "8841f200-956b-4bd6-d94d-e56571a469fa",
        "colab": {
          "base_uri": "https://localhost:8080/",
          "height": 206
        }
      },
      "source": [
        "gdp_data = pd.read_csv(\"gdpdatafinal.csv\")\n",
        "gdp_data.head()\n",
        "\n"
      ],
      "execution_count": 0,
      "outputs": [
        {
          "output_type": "execute_result",
          "data": {
            "text/html": [
              "<div>\n",
              "<style scoped>\n",
              "    .dataframe tbody tr th:only-of-type {\n",
              "        vertical-align: middle;\n",
              "    }\n",
              "\n",
              "    .dataframe tbody tr th {\n",
              "        vertical-align: top;\n",
              "    }\n",
              "\n",
              "    .dataframe thead th {\n",
              "        text-align: right;\n",
              "    }\n",
              "</style>\n",
              "<table border=\"1\" class=\"dataframe\">\n",
              "  <thead>\n",
              "    <tr style=\"text-align: right;\">\n",
              "      <th></th>\n",
              "      <th>time</th>\n",
              "      <th>gdp</th>\n",
              "    </tr>\n",
              "  </thead>\n",
              "  <tbody>\n",
              "    <tr>\n",
              "      <th>0</th>\n",
              "      <td>1</td>\n",
              "      <td>3561.93</td>\n",
              "    </tr>\n",
              "    <tr>\n",
              "      <th>1</th>\n",
              "      <td>2</td>\n",
              "      <td>3284.25</td>\n",
              "    </tr>\n",
              "    <tr>\n",
              "      <th>2</th>\n",
              "      <td>3</td>\n",
              "      <td>4088.57</td>\n",
              "    </tr>\n",
              "    <tr>\n",
              "      <th>3</th>\n",
              "      <td>4</td>\n",
              "      <td>4149.01</td>\n",
              "    </tr>\n",
              "    <tr>\n",
              "      <th>4</th>\n",
              "      <td>5</td>\n",
              "      <td>3686.80</td>\n",
              "    </tr>\n",
              "  </tbody>\n",
              "</table>\n",
              "</div>"
            ],
            "text/plain": [
              "   time      gdp\n",
              "0     1  3561.93\n",
              "1     2  3284.25\n",
              "2     3  4088.57\n",
              "3     4  4149.01\n",
              "4     5  3686.80"
            ]
          },
          "metadata": {
            "tags": []
          },
          "execution_count": 4
        }
      ]
    },
    {
      "cell_type": "code",
      "metadata": {
        "id": "hvX-i0lc3Pfj",
        "colab_type": "code",
        "outputId": "32435cb6-de8d-43b4-e77f-7d61b3490f33",
        "colab": {
          "base_uri": "https://localhost:8080/",
          "height": 347
        }
      },
      "source": [
        "gdp_data.plot()\n",
        "pyplot.show()"
      ],
      "execution_count": 0,
      "outputs": [
        {
          "output_type": "display_data",
          "data": {
            "image/png": "[encoded data removed]",
            "text/plain": [
              "<matplotlib.figure.Figure at 0x7f2d32371b38>"
            ]
          },
          "metadata": {
            "tags": []
          }
        }
      ]
    },
    {
      "cell_type": "code",
      "metadata": {
        "id": "fpuCvwy7_7MY",
        "colab_type": "code",
        "outputId": "f05105b1-8c53-4615-c738-883581955273",
        "colab": {
          "base_uri": "https://localhost:8080/",
          "height": 35
        }
      },
      "source": [
        "gdp_train = gdp_data.iloc[:40,1]\n",
        "gdp_test = gdp_data.iloc[40:,1]\n",
        "gdp_train.shape\n",
        "#gdp_test.head()"
      ],
      "execution_count": 0,
      "outputs": [
        {
          "output_type": "execute_result",
          "data": {
            "text/plain": [
              "(40,)"
            ]
          },
          "metadata": {
            "tags": []
          },
          "execution_count": 6
        }
      ]
    },
    {
      "cell_type": "code",
      "metadata": {
        "id": "nLdKaSZKCLLN",
        "colab_type": "code",
        "outputId": "7f7ef89d-d491-4581-9df2-36fdd4ee940a",
        "colab": {
          "base_uri": "https://localhost:8080/",
          "height": 124
        }
      },
      "source": [
        "window_size = 5\n",
        "gdp_a = gdp_train.copy()\n",
        "gdp_b = gdp_a.shift(-1)\n",
        "gdp_train.head()\n"
      ],
      "execution_count": 0,
      "outputs": [
        {
          "output_type": "execute_result",
          "data": {
            "text/plain": [
              "0    3561.93\n",
              "1    3284.25\n",
              "2    4088.57\n",
              "3    4149.01\n",
              "4    3686.80\n",
              "Name: gdp, dtype: float64"
            ]
          },
          "metadata": {
            "tags": []
          },
          "execution_count": 7
        }
      ]
    },
    {
      "cell_type": "code",
      "metadata": {
        "id": "xvk5WqAN_MwI",
        "colab_type": "code",
        "outputId": "78584435-e01b-44b8-f57c-19c383793ae8",
        "colab": {
          "base_uri": "https://localhost:8080/",
          "height": 206
        }
      },
      "source": [
        "gdp_a.head()\n",
        "gdp_conc = pd.concat([gdp_b,gdp_a],axis=1)\n",
        "\n",
        "gdp_conc.head()"
      ],
      "execution_count": 0,
      "outputs": [
        {
          "output_type": "execute_result",
          "data": {
            "text/html": [
              "<div>\n",
              "<style scoped>\n",
              "    .dataframe tbody tr th:only-of-type {\n",
              "        vertical-align: middle;\n",
              "    }\n",
              "\n",
              "    .dataframe tbody tr th {\n",
              "        vertical-align: top;\n",
              "    }\n",
              "\n",
              "    .dataframe thead th {\n",
              "        text-align: right;\n",
              "    }\n",
              "</style>\n",
              "<table border=\"1\" class=\"dataframe\">\n",
              "  <thead>\n",
              "    <tr style=\"text-align: right;\">\n",
              "      <th></th>\n",
              "      <th>gdp</th>\n",
              "      <th>gdp</th>\n",
              "    </tr>\n",
              "  </thead>\n",
              "  <tbody>\n",
              "    <tr>\n",
              "      <th>0</th>\n",
              "      <td>3284.25</td>\n",
              "      <td>3561.93</td>\n",
              "    </tr>\n",
              "    <tr>\n",
              "      <th>1</th>\n",
              "      <td>4088.57</td>\n",
              "      <td>3284.25</td>\n",
              "    </tr>\n",
              "    <tr>\n",
              "      <th>2</th>\n",
              "      <td>4149.01</td>\n",
              "      <td>4088.57</td>\n",
              "    </tr>\n",
              "    <tr>\n",
              "      <th>3</th>\n",
              "      <td>3686.80</td>\n",
              "      <td>4149.01</td>\n",
              "    </tr>\n",
              "    <tr>\n",
              "      <th>4</th>\n",
              "      <td>3451.39</td>\n",
              "      <td>3686.80</td>\n",
              "    </tr>\n",
              "  </tbody>\n",
              "</table>\n",
              "</div>"
            ],
            "text/plain": [
              "       gdp      gdp\n",
              "0  3284.25  3561.93\n",
              "1  4088.57  3284.25\n",
              "2  4149.01  4088.57\n",
              "3  3686.80  4149.01\n",
              "4  3451.39  3686.80"
            ]
          },
          "metadata": {
            "tags": []
          },
          "execution_count": 8
        }
      ]
    },
    {
      "cell_type": "code",
      "metadata": {
        "id": "CDgNOy1-EqYD",
        "colab_type": "code",
        "colab": {}
      },
      "source": [
        "for i in range(window_size):\n",
        "  gdp_train = pd.concat([gdp_train,gdp_a.shift(-(i+1))],axis=1)\n",
        "\n",
        "\n"
      ],
      "execution_count": 0,
      "outputs": []
    },
    {
      "cell_type": "code",
      "metadata": {
        "id": "Letu8WuKFiS9",
        "colab_type": "code",
        "outputId": "4f696f9c-c6d8-440b-8a88-4ad9d3a6d8e5",
        "colab": {
          "base_uri": "https://localhost:8080/",
          "height": 1147
        }
      },
      "source": [
        "gdp_train.dropna(axis=0,inplace = True)\n",
        "with pd.option_context('display.max_rows', None, 'display.max_columns', None):\n",
        "    display(gdp_train)"
      ],
      "execution_count": 0,
      "outputs": [
        {
          "output_type": "display_data",
          "data": {
            "text/html": [
              "<div>\n",
              "<style scoped>\n",
              "    .dataframe tbody tr th:only-of-type {\n",
              "        vertical-align: middle;\n",
              "    }\n",
              "\n",
              "    .dataframe tbody tr th {\n",
              "        vertical-align: top;\n",
              "    }\n",
              "\n",
              "    .dataframe thead th {\n",
              "        text-align: right;\n",
              "    }\n",
              "</style>\n",
              "<table border=\"1\" class=\"dataframe\">\n",
              "  <thead>\n",
              "    <tr style=\"text-align: right;\">\n",
              "      <th></th>\n",
              "      <th>gdp</th>\n",
              "      <th>gdp</th>\n",
              "      <th>gdp</th>\n",
              "      <th>gdp</th>\n",
              "      <th>gdp</th>\n",
              "      <th>gdp</th>\n",
              "    </tr>\n",
              "  </thead>\n",
              "  <tbody>\n",
              "    <tr>\n",
              "      <th>0</th>\n",
              "      <td>3561.93</td>\n",
              "      <td>3284.25</td>\n",
              "      <td>4088.57</td>\n",
              "      <td>4149.01</td>\n",
              "      <td>3686.80</td>\n",
              "      <td>3451.39</td>\n",
              "    </tr>\n",
              "    <tr>\n",
              "      <th>1</th>\n",
              "      <td>3284.25</td>\n",
              "      <td>4088.57</td>\n",
              "      <td>4149.01</td>\n",
              "      <td>3686.80</td>\n",
              "      <td>3451.39</td>\n",
              "      <td>4243.00</td>\n",
              "    </tr>\n",
              "    <tr>\n",
              "      <th>2</th>\n",
              "      <td>4088.57</td>\n",
              "      <td>4149.01</td>\n",
              "      <td>3686.80</td>\n",
              "      <td>3451.39</td>\n",
              "      <td>4243.00</td>\n",
              "      <td>4351.41</td>\n",
              "    </tr>\n",
              "    <tr>\n",
              "      <th>3</th>\n",
              "      <td>4149.01</td>\n",
              "      <td>3686.80</td>\n",
              "      <td>3451.39</td>\n",
              "      <td>4243.00</td>\n",
              "      <td>4351.41</td>\n",
              "      <td>3938.42</td>\n",
              "    </tr>\n",
              "    <tr>\n",
              "      <th>4</th>\n",
              "      <td>3686.80</td>\n",
              "      <td>3451.39</td>\n",
              "      <td>4243.00</td>\n",
              "      <td>4351.41</td>\n",
              "      <td>3938.42</td>\n",
              "      <td>3738.08</td>\n",
              "    </tr>\n",
              "    <tr>\n",
              "      <th>5</th>\n",
              "      <td>3451.39</td>\n",
              "      <td>4243.00</td>\n",
              "      <td>4351.41</td>\n",
              "      <td>3938.42</td>\n",
              "      <td>3738.08</td>\n",
              "      <td>4497.16</td>\n",
              "    </tr>\n",
              "    <tr>\n",
              "      <th>6</th>\n",
              "      <td>4243.00</td>\n",
              "      <td>4351.41</td>\n",
              "      <td>3938.42</td>\n",
              "      <td>3738.08</td>\n",
              "      <td>4497.16</td>\n",
              "      <td>4610.43</td>\n",
              "    </tr>\n",
              "    <tr>\n",
              "      <th>7</th>\n",
              "      <td>4351.41</td>\n",
              "      <td>3938.42</td>\n",
              "      <td>3738.08</td>\n",
              "      <td>4497.16</td>\n",
              "      <td>4610.43</td>\n",
              "      <td>4217.95</td>\n",
              "    </tr>\n",
              "    <tr>\n",
              "      <th>8</th>\n",
              "      <td>3938.42</td>\n",
              "      <td>3738.08</td>\n",
              "      <td>4497.16</td>\n",
              "      <td>4610.43</td>\n",
              "      <td>4217.95</td>\n",
              "      <td>3965.61</td>\n",
              "    </tr>\n",
              "    <tr>\n",
              "      <th>9</th>\n",
              "      <td>3738.08</td>\n",
              "      <td>4497.16</td>\n",
              "      <td>4610.43</td>\n",
              "      <td>4217.95</td>\n",
              "      <td>3965.61</td>\n",
              "      <td>4778.70</td>\n",
              "    </tr>\n",
              "    <tr>\n",
              "      <th>10</th>\n",
              "      <td>4497.16</td>\n",
              "      <td>4610.43</td>\n",
              "      <td>4217.95</td>\n",
              "      <td>3965.61</td>\n",
              "      <td>4778.70</td>\n",
              "      <td>4903.77</td>\n",
              "    </tr>\n",
              "    <tr>\n",
              "      <th>11</th>\n",
              "      <td>4610.43</td>\n",
              "      <td>4217.95</td>\n",
              "      <td>3965.61</td>\n",
              "      <td>4778.70</td>\n",
              "      <td>4903.77</td>\n",
              "      <td>4432.84</td>\n",
              "    </tr>\n",
              "    <tr>\n",
              "      <th>12</th>\n",
              "      <td>4217.95</td>\n",
              "      <td>3965.61</td>\n",
              "      <td>4778.70</td>\n",
              "      <td>4903.77</td>\n",
              "      <td>4432.84</td>\n",
              "      <td>4229.97</td>\n",
              "    </tr>\n",
              "    <tr>\n",
              "      <th>13</th>\n",
              "      <td>3965.61</td>\n",
              "      <td>4778.70</td>\n",
              "      <td>4903.77</td>\n",
              "      <td>4432.84</td>\n",
              "      <td>4229.97</td>\n",
              "      <td>4989.21</td>\n",
              "    </tr>\n",
              "    <tr>\n",
              "      <th>14</th>\n",
              "      <td>4778.70</td>\n",
              "      <td>4903.77</td>\n",
              "      <td>4432.84</td>\n",
              "      <td>4229.97</td>\n",
              "      <td>4989.21</td>\n",
              "      <td>4990.26</td>\n",
              "    </tr>\n",
              "    <tr>\n",
              "      <th>15</th>\n",
              "      <td>4903.77</td>\n",
              "      <td>4432.84</td>\n",
              "      <td>4229.97</td>\n",
              "      <td>4989.21</td>\n",
              "      <td>4990.26</td>\n",
              "      <td>4635.24</td>\n",
              "    </tr>\n",
              "    <tr>\n",
              "      <th>16</th>\n",
              "      <td>4432.84</td>\n",
              "      <td>4229.97</td>\n",
              "      <td>4989.21</td>\n",
              "      <td>4990.26</td>\n",
              "      <td>4635.24</td>\n",
              "      <td>4452.30</td>\n",
              "    </tr>\n",
              "    <tr>\n",
              "      <th>17</th>\n",
              "      <td>4229.97</td>\n",
              "      <td>4989.21</td>\n",
              "      <td>4990.26</td>\n",
              "      <td>4635.24</td>\n",
              "      <td>4452.30</td>\n",
              "      <td>5326.42</td>\n",
              "    </tr>\n",
              "    <tr>\n",
              "      <th>18</th>\n",
              "      <td>4989.21</td>\n",
              "      <td>4990.26</td>\n",
              "      <td>4635.24</td>\n",
              "      <td>4452.30</td>\n",
              "      <td>5326.42</td>\n",
              "      <td>5312.09</td>\n",
              "    </tr>\n",
              "    <tr>\n",
              "      <th>19</th>\n",
              "      <td>4990.26</td>\n",
              "      <td>4635.24</td>\n",
              "      <td>4452.30</td>\n",
              "      <td>5326.42</td>\n",
              "      <td>5312.09</td>\n",
              "      <td>4870.35</td>\n",
              "    </tr>\n",
              "    <tr>\n",
              "      <th>20</th>\n",
              "      <td>4635.24</td>\n",
              "      <td>4452.30</td>\n",
              "      <td>5326.42</td>\n",
              "      <td>5312.09</td>\n",
              "      <td>4870.35</td>\n",
              "      <td>4691.69</td>\n",
              "    </tr>\n",
              "    <tr>\n",
              "      <th>21</th>\n",
              "      <td>4452.30</td>\n",
              "      <td>5326.42</td>\n",
              "      <td>5312.09</td>\n",
              "      <td>4870.35</td>\n",
              "      <td>4691.69</td>\n",
              "      <td>5414.82</td>\n",
              "    </tr>\n",
              "    <tr>\n",
              "      <th>22</th>\n",
              "      <td>5326.42</td>\n",
              "      <td>5312.09</td>\n",
              "      <td>4870.35</td>\n",
              "      <td>4691.69</td>\n",
              "      <td>5414.82</td>\n",
              "      <td>5506.04</td>\n",
              "    </tr>\n",
              "    <tr>\n",
              "      <th>23</th>\n",
              "      <td>5312.09</td>\n",
              "      <td>4870.35</td>\n",
              "      <td>4691.69</td>\n",
              "      <td>5414.82</td>\n",
              "      <td>5506.04</td>\n",
              "      <td>5133.17</td>\n",
              "    </tr>\n",
              "    <tr>\n",
              "      <th>24</th>\n",
              "      <td>4870.35</td>\n",
              "      <td>4691.69</td>\n",
              "      <td>5414.82</td>\n",
              "      <td>5506.04</td>\n",
              "      <td>5133.17</td>\n",
              "      <td>5114.48</td>\n",
              "    </tr>\n",
              "    <tr>\n",
              "      <th>25</th>\n",
              "      <td>4691.69</td>\n",
              "      <td>5414.82</td>\n",
              "      <td>5506.04</td>\n",
              "      <td>5133.17</td>\n",
              "      <td>5114.48</td>\n",
              "      <td>6026.84</td>\n",
              "    </tr>\n",
              "    <tr>\n",
              "      <th>26</th>\n",
              "      <td>5414.82</td>\n",
              "      <td>5506.04</td>\n",
              "      <td>5133.17</td>\n",
              "      <td>5114.48</td>\n",
              "      <td>6026.84</td>\n",
              "      <td>5953.11</td>\n",
              "    </tr>\n",
              "    <tr>\n",
              "      <th>27</th>\n",
              "      <td>5506.04</td>\n",
              "      <td>5133.17</td>\n",
              "      <td>5114.48</td>\n",
              "      <td>6026.84</td>\n",
              "      <td>5953.11</td>\n",
              "      <td>5560.72</td>\n",
              "    </tr>\n",
              "    <tr>\n",
              "      <th>28</th>\n",
              "      <td>5133.17</td>\n",
              "      <td>5114.48</td>\n",
              "      <td>6026.84</td>\n",
              "      <td>5953.11</td>\n",
              "      <td>5560.72</td>\n",
              "      <td>5493.12</td>\n",
              "    </tr>\n",
              "    <tr>\n",
              "      <th>29</th>\n",
              "      <td>5114.48</td>\n",
              "      <td>6026.84</td>\n",
              "      <td>5953.11</td>\n",
              "      <td>5560.72</td>\n",
              "      <td>5493.12</td>\n",
              "      <td>6344.64</td>\n",
              "    </tr>\n",
              "    <tr>\n",
              "      <th>30</th>\n",
              "      <td>6026.84</td>\n",
              "      <td>5953.11</td>\n",
              "      <td>5560.72</td>\n",
              "      <td>5493.12</td>\n",
              "      <td>6344.64</td>\n",
              "      <td>6489.21</td>\n",
              "    </tr>\n",
              "    <tr>\n",
              "      <th>31</th>\n",
              "      <td>5953.11</td>\n",
              "      <td>5560.72</td>\n",
              "      <td>5493.12</td>\n",
              "      <td>6344.64</td>\n",
              "      <td>6489.21</td>\n",
              "      <td>6064.16</td>\n",
              "    </tr>\n",
              "    <tr>\n",
              "      <th>32</th>\n",
              "      <td>5560.72</td>\n",
              "      <td>5493.12</td>\n",
              "      <td>6344.64</td>\n",
              "      <td>6489.21</td>\n",
              "      <td>6064.16</td>\n",
              "      <td>5980.65</td>\n",
              "    </tr>\n",
              "    <tr>\n",
              "      <th>33</th>\n",
              "      <td>5493.12</td>\n",
              "      <td>6344.64</td>\n",
              "      <td>6489.21</td>\n",
              "      <td>6064.16</td>\n",
              "      <td>5980.65</td>\n",
              "      <td>6958.35</td>\n",
              "    </tr>\n",
              "    <tr>\n",
              "      <th>34</th>\n",
              "      <td>6344.64</td>\n",
              "      <td>6489.21</td>\n",
              "      <td>6064.16</td>\n",
              "      <td>5980.65</td>\n",
              "      <td>6958.35</td>\n",
              "      <td>7157.86</td>\n",
              "    </tr>\n",
              "  </tbody>\n",
              "</table>\n",
              "</div>"
            ],
            "text/plain": [
              "        gdp      gdp      gdp      gdp      gdp      gdp\n",
              "0   3561.93  3284.25  4088.57  4149.01  3686.80  3451.39\n",
              "1   3284.25  4088.57  4149.01  3686.80  3451.39  4243.00\n",
              "2   4088.57  4149.01  3686.80  3451.39  4243.00  4351.41\n",
              "3   4149.01  3686.80  3451.39  4243.00  4351.41  3938.42\n",
              "4   3686.80  3451.39  4243.00  4351.41  3938.42  3738.08\n",
              "5   3451.39  4243.00  4351.41  3938.42  3738.08  4497.16\n",
              "6   4243.00  4351.41  3938.42  3738.08  4497.16  4610.43\n",
              "7   4351.41  3938.42  3738.08  4497.16  4610.43  4217.95\n",
              "8   3938.42  3738.08  4497.16  4610.43  4217.95  3965.61\n",
              "9   3738.08  4497.16  4610.43  4217.95  3965.61  4778.70\n",
              "10  4497.16  4610.43  4217.95  3965.61  4778.70  4903.77\n",
              "11  4610.43  4217.95  3965.61  4778.70  4903.77  4432.84\n",
              "12  4217.95  3965.61  4778.70  4903.77  4432.84  4229.97\n",
              "13  3965.61  4778.70  4903.77  4432.84  4229.97  4989.21\n",
              "14  4778.70  4903.77  4432.84  4229.97  4989.21  4990.26\n",
              "15  4903.77  4432.84  4229.97  4989.21  4990.26  4635.24\n",
              "16  4432.84  4229.97  4989.21  4990.26  4635.24  4452.30\n",
              "17  4229.97  4989.21  4990.26  4635.24  4452.30  5326.42\n",
              "18  4989.21  4990.26  4635.24  4452.30  5326.42  5312.09\n",
              "19  4990.26  4635.24  4452.30  5326.42  5312.09  4870.35\n",
              "20  4635.24  4452.30  5326.42  5312.09  4870.35  4691.69\n",
              "21  4452.30  5326.42  5312.09  4870.35  4691.69  5414.82\n",
              "22  5326.42  5312.09  4870.35  4691.69  5414.82  5506.04\n",
              "23  5312.09  4870.35  4691.69  5414.82  5506.04  5133.17\n",
              "24  4870.35  4691.69  5414.82  5506.04  5133.17  5114.48\n",
              "25  4691.69  5414.82  5506.04  5133.17  5114.48  6026.84\n",
              "26  5414.82  5506.04  5133.17  5114.48  6026.84  5953.11\n",
              "27  5506.04  5133.17  5114.48  6026.84  5953.11  5560.72\n",
              "28  5133.17  5114.48  6026.84  5953.11  5560.72  5493.12\n",
              "29  5114.48  6026.84  5953.11  5560.72  5493.12  6344.64\n",
              "30  6026.84  5953.11  5560.72  5493.12  6344.64  6489.21\n",
              "31  5953.11  5560.72  5493.12  6344.64  6489.21  6064.16\n",
              "32  5560.72  5493.12  6344.64  6489.21  6064.16  5980.65\n",
              "33  5493.12  6344.64  6489.21  6064.16  5980.65  6958.35\n",
              "34  6344.64  6489.21  6064.16  5980.65  6958.35  7157.86"
            ]
          },
          "metadata": {
            "tags": []
          }
        }
      ]
    },
    {
      "cell_type": "code",
      "metadata": {
        "id": "qYDnmFJsA3I0",
        "colab_type": "code",
        "outputId": "4290cb1e-e9c6-42c3-8d0a-3cc4d6163cd8",
        "colab": {
          "base_uri": "https://localhost:8080/",
          "height": 35
        }
      },
      "source": [
        "import numpy\n",
        "from numpy import newaxis\n",
        "gdp_train.shape\n",
        "gdp_numpy = gdp_train.values\n",
        "gdp_training = gdp_numpy[:,:,newaxis]\n",
        "gdp_training.shape\n",
        "gdp_training1 = gdp_numpy.reshape(35,6,1)\n",
        "gdp_training1.shape\n",
        "\n"
      ],
      "execution_count": 0,
      "outputs": [
        {
          "output_type": "execute_result",
          "data": {
            "text/plain": [
              "(35, 6, 1)"
            ]
          },
          "metadata": {
            "tags": []
          },
          "execution_count": 15
        }
      ]
    },
    {
      "cell_type": "code",
      "metadata": {
        "id": "VxIXS8oxIrYd",
        "colab_type": "code",
        "colab": {}
      },
      "source": [
        "#here actual training is defined.\n",
        "gdp_trainx = gdp_train.iloc[:,:-1]\n",
        "gdp_trainy = gdp_train.iloc[:,-1]\n",
        "\n"
      ],
      "execution_count": 0,
      "outputs": []
    },
    {
      "cell_type": "code",
      "metadata": {
        "id": "xeshVzJ3Jl0N",
        "colab_type": "code",
        "colab": {}
      },
      "source": [
        "#here actual testing data is defined\n",
        "gdp_test_a = gdp_test.copy()\n",
        "for i in range(window_size):\n",
        "  gdp_test = pd.concat([gdp_test,gdp_test_a.shift(-(i+1))],axis=1)\n",
        "test_x = gdp_test.iloc[:,:-1]\n",
        "test_y = gdp_test.iloc[:,-1]\n"
      ],
      "execution_count": 0,
      "outputs": []
    },
    {
      "cell_type": "code",
      "metadata": {
        "id": "Q8EPZQUVMi1s",
        "colab_type": "code",
        "outputId": "205464d6-42d6-4b5d-9edd-738267396f86",
        "colab": {
          "base_uri": "https://localhost:8080/",
          "height": 35
        }
      },
      "source": [
        "# I am adding dimensionality to prepare it for lstm input\n",
        "gdp_numpyx = gdp_trainx.values\n",
        "gdp_trainx.shape\n",
        "\n",
        "from sklearn.preprocessing import MinMaxScaler\n",
        "\n",
        "gdp_trainingx = gdp_numpyx[:,:,newaxis]\n",
        "gdp_trainingx.shape\n",
        "\n",
        "gdp_numpy_testx = test_x.values\n",
        "gdp_numpy_testx = gdp_numpy_testx[:,:,newaxis]\n",
        "gdp_numpy_testx.shape"
      ],
      "execution_count": 0,
      "outputs": [
        {
          "output_type": "execute_result",
          "data": {
            "text/plain": [
              "(14, 5, 1)"
            ]
          },
          "metadata": {
            "tags": []
          },
          "execution_count": 21
        }
      ]
    },
    {
      "cell_type": "code",
      "metadata": {
        "id": "0pjdPAoDNn3r",
        "colab_type": "code",
        "outputId": "eca1e7b3-e688-439b-ac24-b2a63c23f2ca",
        "colab": {
          "base_uri": "https://localhost:8080/",
          "height": 412
        }
      },
      "source": [
        "model = Sequential()\n",
        "model.add(LSTM(input_shape = (5,1), output_dim= 5, return_sequences = True))\n",
        "model.add(Dropout(0.1))\n",
        "model.add(LSTM(256))\n",
        "model.add(Dropout(0.1))\n",
        "model.add(Dense(1))\n",
        "model.add(Activation(\"linear\"))\n",
        "model.compile(loss=\"mse\", optimizer=\"adam\")\n",
        "model.summary()\n",
        "model.fit(gdp_trainingx,gdp_trainy,nb_epoch=1000)\n",
        "\n"
      ],
      "execution_count": 0,
      "outputs": [
        {
          "output_type": "stream",
          "text": [
            "/usr/local/lib/python3.6/dist-packages/ipykernel_launcher.py:2: UserWarning: Update your `LSTM` call to the Keras 2 API: `LSTM(input_shape=(5, 1), return_sequences=True, units=5)`\n",
            "  \n"
          ],
          "name": "stderr"
        },
        {
          "output_type": "stream",
          "text": [
            "_________________________________________________________________\n",
            "Layer (type)                 Output Shape              Param #   \n",
            "=================================================================\n",
            "lstm_3 (LSTM)                (None, 5, 5)              140       \n",
            "_________________________________________________________________\n",
            "dropout_3 (Dropout)          (None, 5, 5)              0         \n",
            "_________________________________________________________________\n",
            "lstm_4 (LSTM)                (None, 256)               268288    \n",
            "_________________________________________________________________\n",
            "dropout_4 (Dropout)          (None, 256)               0         \n",
            "_________________________________________________________________\n",
            "dense_2 (Dense)              (None, 1)                 257       \n",
            "_________________________________________________________________\n",
            "activation_2 (Activation)    (None, 1)                 0         \n",
            "=================================================================\n",
            "Total params: 268,685\n",
            "Trainable params: 268,685\n",
            "Non-trainable params: 0\n",
            "_________________________________________________________________\n"
          ],
          "name": "stdout"
        }
      ]
    }
  ]
}